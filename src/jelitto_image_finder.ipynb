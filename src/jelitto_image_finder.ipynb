{
 "cells": [
  {
   "cell_type": "code",
   "execution_count": null,
   "metadata": {},
   "outputs": [],
   "source": [
    "import pandas as pd\n",
    "import numpy as np\n",
    "import requests\n",
    "import urllib\n",
    "from lxml.html import fromstring\n",
    "import threading\n",
    "import concurrent.futures\n",
    "from collections import defaultdict\n",
    "import re\n",
    "import logging\n",
    "\n"
   ]
  },
  {
   "cell_type": "code",
   "execution_count": null,
   "metadata": {},
   "outputs": [],
   "source": [
    "# Read in seed spreadsheet\n",
    "jelitto = pd.read_excel('jelitto_pricelist.xls')"
   ]
  },
  {
   "cell_type": "code",
   "execution_count": null,
   "metadata": {},
   "outputs": [],
   "source": [
    "# Don't truncate text\n",
    "pd.set_option('display.max_colwidth', -1)"
   ]
  },
  {
   "cell_type": "code",
   "execution_count": null,
   "metadata": {},
   "outputs": [],
   "source": [
    "# Subset of rows to test\n",
    "jelitto = jelitto.iloc[0:25, :]"
   ]
  },
  {
   "cell_type": "code",
   "execution_count": null,
   "metadata": {
    "collapsed": true
   },
   "outputs": [],
   "source": [
    "# Check dataframe\n",
    "jelitto.head()"
   ]
  },
  {
   "cell_type": "code",
   "execution_count": null,
   "metadata": {},
   "outputs": [],
   "source": [
    "# Add row for image url\n",
    "image_url = jelitto['Item No.'].apply(lambda row: f'https://www.jelitto.com/out/pictures/master/product/1/{row.lower()}.jpg')\n"
   ]
  },
  {
   "cell_type": "code",
   "execution_count": null,
   "metadata": {},
   "outputs": [],
   "source": [
    "def response_code_error(url):\n",
    "    \"\"\"Confirm that Jelitto has an image of the plant.\n",
    "\n",
    "    Parameters\n",
    "    ----------\n",
    "    url: str\n",
    "        URL to check\n",
    "    \n",
    "    Returns\n",
    "    -------\n",
    "        int|np.nan\n",
    "    \"\"\"\n",
    "    print(f\"Checking url: {url}\")\n",
    "    try:\n",
    "        code = urllib.request.urlopen(url).getcode()\n",
    "        print(code)\n",
    "        return code\n",
    "    except urllib.error.URLError as err:\n",
    "        print(f\"No Jelitto image {err}\")\n",
    "        return np.nan"
   ]
  },
  {
   "cell_type": "code",
   "execution_count": null,
   "metadata": {
    "collapsed": true
   },
   "outputs": [],
   "source": [
    "# Save checked urls to a dictionary.\n",
    "confident_urls = defaultdict(str)\n",
    "\n",
    "# Threaded Jelitto image url checking.\n",
    "with concurrent.futures.ThreadPoolExecutor(max_workers=25) as executor:\n",
    "    check_url = {executor.submit(response_code_error, url): url for url in image_url}\n",
    "    for future in concurrent.futures.as_completed(check_url):\n",
    "        url = check_url[future]\n",
    "        try:\n",
    "            data = future.result()\n",
    "            if data == 200:\n",
    "                confident_urls[re.search(r'\\/1\\/(.*)\\.', url).group(1)] = url\n",
    "            else:\n",
    "                confident_urls[re.search(r'\\/1\\/(.*)\\.', url).group(1)] = np.nan \n",
    "        except Exception as exc:\n",
    "            print(f\"{url} generated an exception: {exc}\")\n"
   ]
  },
  {
   "cell_type": "code",
   "execution_count": null,
   "metadata": {},
   "outputs": [],
   "source": [
    "# Cast confident_urls to a dataframe sorted by index (the Item No.)\n",
    "df = pd.DataFrame.from_dict(confident_urls, orient='index', columns=['url'])\n",
    "df.sort_index(inplace=True)"
   ]
  },
  {
   "cell_type": "code",
   "execution_count": null,
   "metadata": {},
   "outputs": [],
   "source": [
    "# Set the index of the jelitto df to Item No & sort\n",
    "jelitto.set_index('Item No.', inplace=True)\n",
    "jelitto.sort_index(inplace=True)\n"
   ]
  },
  {
   "cell_type": "code",
   "execution_count": null,
   "metadata": {},
   "outputs": [],
   "source": [
    "# Add image_url column to jelitto\n",
    "jelitto['image_url'] = df['url'].values"
   ]
  },
  {
   "cell_type": "code",
   "execution_count": null,
   "metadata": {},
   "outputs": [],
   "source": [
    "# Create list of wikimedia_urls for rows where jelitto had no image \n",
    "# and create alternative lookups for the common name to check if the scientific name has no results\n",
    "wikimedia_urls = []\n",
    "alternate_lookups = {}\n",
    "_url = 'https://commons.wikimedia.org/w/index.php?search='\n",
    "updates = jelitto[jelitto['image_url'].isnull()]\n",
    "wikimedia_urls = [(ix, _url + x) for ix, x in updates[['Genus', 'Species ']].apply(lambda x: ' '.join(x).lower(), axis=1).iteritems()]\n",
    "alternate_lookups = {i: _url+'+'.join(x.split(',')[0].split()) for i,x in updates['Common Names'].iteritems() if not isinstance(x, float)}\n",
    "\n",
    "# Create list of alternative urls for the threaded wikimedia lookups to add to\n",
    "ALT_URLS = []\n"
   ]
  },
  {
   "cell_type": "code",
   "execution_count": null,
   "metadata": {},
   "outputs": [],
   "source": [
    "def alt_url(url: tuple, scientific:bool = False, alt_urls:list = ALT_URLS):\n",
    "    \"\"\"Test tuple of _id and url to find an image on wikimedia commons.\n",
    "    \n",
    "    Parameters\n",
    "    ----------\n",
    "    url: tuple\n",
    "        A tuple of _id and a url\n",
    "    scientific: bool\n",
    "        Optional, by default False\n",
    "    alt_urls: list\n",
    "        The list to append to if an alternative image url is found.\n",
    "        Optional, by default ALT_URLS\n",
    "    \"\"\"\n",
    "    _id = url[0]\n",
    "    url = url[1]\n",
    "    page = requests.get(url)\n",
    "    text = fromstring(page.content)\n",
    "    new_url = text.xpath(\"//li[@class='mw-search-result']//a/@href|//ul[contains(@class, 'gallery')]//img/@src\")[0]\n",
    "    if new_url.lower().endswith(('.png', '.jpg', '.jpeg')):\n",
    "        if (_id, \"https://commons.wikimedia.org\"+new_url) not in alt_urls:\n",
    "            alt_urls.append((_id, \"https://commons.wikimedia.org\"+new_url))\n",
    "        if scientific:\n",
    "            del alternate_lookups[_id]\n",
    "    else:\n",
    "        if scientific:\n",
    "            pass # try common name\n",
    "        else:\n",
    "            alt_urls.append((_id, np.nan)) \n",
    "\n"
   ]
  },
  {
   "cell_type": "code",
   "execution_count": null,
   "metadata": {
    "scrolled": true
   },
   "outputs": [],
   "source": [
    "# Checking wikimedia urls with scientific name lookup\n",
    "with concurrent.futures.ThreadPoolExecutor(max_workers=50) as executor:\n",
    "    # Start the load operations and mark each future with its URL\n",
    "    check_url = {executor.submit(alt_url, url, scientific=True): url for url in wikimedia_urls}  \n",
    "    for future in concurrent.futures.as_completed(check_url):\n",
    "        url = check_url[future]"
   ]
  },
  {
   "cell_type": "code",
   "execution_count": null,
   "metadata": {
    "scrolled": false
   },
   "outputs": [],
   "source": [
    "# Checking wikimedia common name lookup\n",
    "if alternate_lookups:\n",
    "    lookups = [(k,v) for k,v in alternate_lookups.items()]\n",
    "    with concurrent.futures.ThreadPoolExecutor(max_workers=50) as executor:\n",
    "        check_url = {executor.submit(alt_url, url): url for url in lookups}\n",
    "        for future in concurrent.futures.as_completed(check_url):\n",
    "            url = check_url[future]"
   ]
  },
  {
   "cell_type": "code",
   "execution_count": null,
   "metadata": {},
   "outputs": [],
   "source": [
    "# Cast alternate_urls to df with index aligned to jelitto\n",
    "altdf = pd.DataFrame(ALT_URLS)\n",
    "altdf.rename({0: '_id', 1: 'image_url'}, axis=1, inplace=True)\n",
    "altdf.set_index('_id', inplace=True)\n"
   ]
  },
  {
   "cell_type": "code",
   "execution_count": null,
   "metadata": {
    "scrolled": false
   },
   "outputs": [],
   "source": [
    "# Replace null values in image_url with urls from alternate_urls\n",
    "jelitto = jelitto.combine_first(altdf)"
   ]
  },
  {
   "cell_type": "code",
   "execution_count": null,
   "metadata": {},
   "outputs": [],
   "source": [
    "# Check results\n",
    "jelitto[['Genus', 'Species ', 'image_url']]"
   ]
  },
  {
   "cell_type": "code",
   "execution_count": null,
   "metadata": {},
   "outputs": [],
   "source": [
    "# Output to csv\n",
    "jelitto.to_csv('image_urls.csv')"
   ]
  },
  {
   "cell_type": "code",
   "execution_count": null,
   "metadata": {},
   "outputs": [],
   "source": []
  }
 ],
 "metadata": {
  "interpreter": {
   "hash": "f587d71227f3d759f895a1e8c31d05fb6d3c1e53e6643c2fc3c22c430c8e38d6"
  },
  "kernelspec": {
   "display_name": "Python 3.9.1 64-bit ('venv': venv)",
   "name": "python3"
  },
  "language_info": {
   "codemirror_mode": {
    "name": "ipython",
    "version": 3
   },
   "file_extension": ".py",
   "mimetype": "text/x-python",
   "name": "python",
   "nbconvert_exporter": "python",
   "pygments_lexer": "ipython3",
   "version": "3.9.1"
  }
 },
 "nbformat": 4,
 "nbformat_minor": 2
}
