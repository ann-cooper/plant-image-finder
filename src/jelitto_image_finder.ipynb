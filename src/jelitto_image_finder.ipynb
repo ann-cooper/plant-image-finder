{
 "cells": [
  {
   "cell_type": "code",
   "execution_count": null,
   "metadata": {},
   "outputs": [],
   "source": [
    "import concurrent.futures\n",
    "import re\n",
    "import threading\n",
    "import urllib\n",
    "from collections import defaultdict\n",
    "\n",
    "import numpy as np\n",
    "import pandas as pd\n",
    "import requests\n",
    "from lxml.html import fromstring\n",
    "\n"
   ]
  },
  {
   "cell_type": "code",
   "execution_count": null,
   "metadata": {},
   "outputs": [],
   "source": [
    "# Read in seed spreadsheet\n",
    "catalog_df = pd.read_excel('jelitto_pricelist.xls')"
   ]
  },
  {
   "cell_type": "code",
   "execution_count": null,
   "metadata": {},
   "outputs": [],
   "source": [
    "# Don't truncate text\n",
    "pd.set_option('display.max_colwidth', 0)"
   ]
  },
  {
   "cell_type": "code",
   "execution_count": null,
   "metadata": {},
   "outputs": [],
   "source": [
    "# Subset of rows to test\n",
    "catalog_df = catalog_df.iloc[0:25, :]"
   ]
  },
  {
   "cell_type": "code",
   "execution_count": null,
   "metadata": {
    "collapsed": true
   },
   "outputs": [],
   "source": [
    "# Check dataframe\n",
    "catalog_df.head()"
   ]
  },
  {
   "cell_type": "code",
   "execution_count": null,
   "metadata": {},
   "outputs": [],
   "source": [
    "# Add row for image url\n",
    "image_urls = catalog_df['Item No.'].apply(lambda row: f'https://www.jelitto.com/out/pictures/master/product/1/{row.lower()}.jpg')\n"
   ]
  },
  {
   "cell_type": "code",
   "execution_count": null,
   "metadata": {},
   "outputs": [],
   "source": [
    "def response_code_error(url: str) -> int:\n",
    "    \"\"\"Confirm that the catalog has an image of the plant.\n",
    "\n",
    "    Parameters\n",
    "    ----------\n",
    "    url: str\n",
    "        URL to check\n",
    "    \n",
    "    Returns\n",
    "    -------\n",
    "        int|np.nan\n",
    "    \"\"\"\n",
    "    print(f\"Checking url: {url}\")\n",
    "    try:\n",
    "        code = urllib.request.urlopen(url).getcode()\n",
    "    except urllib.error.URLError as err:\n",
    "        print(f\"No Jelitto image {err}\")\n",
    "        code = np.nan\n",
    "    return code"
   ]
  },
  {
   "cell_type": "code",
   "execution_count": null,
   "metadata": {
    "collapsed": true
   },
   "outputs": [],
   "source": [
    "# Save checked urls to a dictionary.\n",
    "confident_urls = defaultdict(str)\n",
    "\n",
    "# Threaded catalog image url checking.\n",
    "with concurrent.futures.ThreadPoolExecutor(max_workers=25) as executor:\n",
    "    check_url = {executor.submit(response_code_error, url): url for url in image_urls}\n",
    "    for future in concurrent.futures.as_completed(check_url):\n",
    "        url = check_url[future]\n",
    "        try:\n",
    "            data = future.result()\n",
    "            if data == 200:\n",
    "                confident_urls[re.search(r'\\/1\\/(.*)\\.', url).group(1)] = url\n",
    "            else:\n",
    "                confident_urls[re.search(r'\\/1\\/(.*)\\.', url).group(1)] = np.nan \n",
    "        except Exception as exc:\n",
    "            print(f\"{url} generated an exception: {exc}\")\n"
   ]
  },
  {
   "cell_type": "code",
   "execution_count": null,
   "metadata": {},
   "outputs": [],
   "source": [
    "# Cast confident_urls to a dataframe sorted by index (the Item No.)\n",
    "confident_urls_df = pd.DataFrame.from_dict(confident_urls, orient='index', columns=['url'])\n",
    "confident_urls_df.sort_index(inplace=True)"
   ]
  },
  {
   "cell_type": "code",
   "execution_count": null,
   "metadata": {},
   "outputs": [],
   "source": [
    "# Set the index of the catalog df to Item No & sort\n",
    "catalog_df.set_index('Item No.', inplace=True)\n",
    "catalog_df.sort_index(inplace=True)\n"
   ]
  },
  {
   "cell_type": "code",
   "execution_count": null,
   "metadata": {},
   "outputs": [],
   "source": [
    "# Add image_url column to the catalog df\n",
    "catalog_df['image_url'] = confident_urls_df['url'].values"
   ]
  },
  {
   "cell_type": "code",
   "execution_count": null,
   "metadata": {},
   "outputs": [],
   "source": [
    "# Create list of scientific name wikimedia urls for rows where the catalog had no image \n",
    "# and create alternative lookups for the common name to check if the scientific name has no results\n",
    "\n",
    "_url = 'https://commons.wikimedia.org/w/index.php?search='\n",
    "updates = catalog_df[catalog_df['image_url'].isnull()]\n",
    "scientific_names = [(ix, _url + x) for ix, x in updates[['Genus', 'Species ']].apply(lambda x: ' '.join(x).lower(), axis=1).items()]\n",
    "common_names = {i: _url+'+'.join(x.split(',')[0].split()) for i,x in updates['Common Names'].items() if not isinstance(x, float)}\n"
   ]
  },
  {
   "cell_type": "code",
   "execution_count": null,
   "metadata": {},
   "outputs": [],
   "source": [
    "def alt_url(url: tuple) -> tuple:\n",
    "    \"\"\"Test tuple of _id and url to find an image on wikimedia commons.\n",
    "    \n",
    "    Parameters\n",
    "    ----------\n",
    "    url: tuple\n",
    "        A tuple of _id and a url\n",
    "    \n",
    "    Returns\n",
    "    -------\n",
    "    alt_url: tuple\n",
    "        (_id, new_url)\n",
    "    \"\"\"\n",
    "    _id = url[0]\n",
    "    url = url[1]\n",
    "    page = requests.get(url)\n",
    "    text = fromstring(page.content)\n",
    "    new_url = text.xpath(\"//li[contains(@class,'mw-search-result')]//a/@href|//ul[contains(@class, 'gallery')]//img/@src\")[0]\n",
    "    if new_url.lower().endswith(('.png', '.jpg', '.jpeg', '.pdf')):\n",
    "        alt_url = (_id, f\"https://commons.wikimedia.org{new_url}\")\n",
    "    else:\n",
    "        alt_url = (_id, None)\n",
    "    return alt_url\n",
    "\n"
   ]
  },
  {
   "cell_type": "code",
   "execution_count": null,
   "metadata": {
    "scrolled": true
   },
   "outputs": [],
   "source": [
    "alt_urls = []\n",
    "# Checking wikimedia urls\n",
    "with concurrent.futures.ThreadPoolExecutor(max_workers=50) as executor:\n",
    "    # Start the load operations and mark each future with its URL\n",
    "    check_url = {executor.submit(alt_url, url): url for url in scientific_names}  \n",
    "    for future in concurrent.futures.as_completed(check_url):\n",
    "        url_tup = future.result()\n",
    "        if url_tup[1]:\n",
    "            alt_urls.append(url_tup)"
   ]
  },
  {
   "cell_type": "code",
   "execution_count": null,
   "metadata": {
    "scrolled": false
   },
   "outputs": [],
   "source": [
    "# Checking wikimedia common names from alt_lookups\n",
    "if common_names:\n",
    "    lookups = [(k,v) for k,v in common_names.items()]\n",
    "    with concurrent.futures.ThreadPoolExecutor(max_workers=50) as executor:\n",
    "        check_url = {executor.submit(alt_url, url): url for url in lookups}\n",
    "        for future in concurrent.futures.as_completed(check_url):\n",
    "            url_tup = future.result()\n",
    "            alt_urls.append(url_tup)"
   ]
  },
  {
   "cell_type": "code",
   "execution_count": null,
   "metadata": {},
   "outputs": [],
   "source": [
    "# Cast alternate_urls to df with index aligned to the catalog df\n",
    "altdf = pd.DataFrame(alt_urls)\n",
    "altdf.rename({0: '_id', 1: 'image_url'}, axis=1, inplace=True)\n",
    "altdf.set_index('_id', inplace=True)\n"
   ]
  },
  {
   "cell_type": "code",
   "execution_count": null,
   "metadata": {
    "scrolled": false
   },
   "outputs": [],
   "source": [
    "# Replace null values in image_url with urls from alt_urls\n",
    "catalog_df = catalog_df.combine_first(altdf)"
   ]
  },
  {
   "cell_type": "code",
   "execution_count": null,
   "metadata": {},
   "outputs": [],
   "source": [
    "# Check results\n",
    "catalog_df[['Genus', 'Species ', 'image_url']]"
   ]
  },
  {
   "cell_type": "code",
   "execution_count": null,
   "metadata": {},
   "outputs": [],
   "source": [
    "# Output to csv\n",
    "catalog_df.to_csv('image_urls_2.csv')"
   ]
  },
  {
   "cell_type": "code",
   "execution_count": null,
   "metadata": {},
   "outputs": [],
   "source": []
  }
 ],
 "metadata": {
  "interpreter": {
   "hash": "f587d71227f3d759f895a1e8c31d05fb6d3c1e53e6643c2fc3c22c430c8e38d6"
  },
  "kernelspec": {
   "display_name": "Python 3.9.1 64-bit ('venv': venv)",
   "name": "python3"
  },
  "language_info": {
   "codemirror_mode": {
    "name": "ipython",
    "version": 3
   },
   "file_extension": ".py",
   "mimetype": "text/x-python",
   "name": "python",
   "nbconvert_exporter": "python",
   "pygments_lexer": "ipython3",
   "version": "3.10.10"
  }
 },
 "nbformat": 4,
 "nbformat_minor": 2
}
